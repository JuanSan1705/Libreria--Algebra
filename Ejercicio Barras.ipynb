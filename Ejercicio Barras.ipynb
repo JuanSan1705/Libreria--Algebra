{
 "cells": [
  {
   "cell_type": "markdown",
   "metadata": {},
   "source": [
    "# Gráfico de barras"
   ]
  },
  {
   "cell_type": "code",
   "execution_count": 1,
   "metadata": {},
   "outputs": [],
   "source": [
    "import numpy as np\n",
    "import matplotlib.pyplot as plt\n",
    "import algebraa as alg\n",
    "%matplotlib inline"
   ]
  },
  {
   "cell_type": "code",
   "execution_count": 6,
   "metadata": {},
   "outputs": [],
   "source": [
    "vec = [[[1,0]],[[0,0]],[[0,0]],[[0,0]]]\n",
    "clics = 3\n",
    "m = [[[0,0],[0.2,0],[0.3,0],[0.5,0]],[[0.3,0],[0.2,0],[0.1,0],[0.4,0]],[[0.4,0],[0.3,0],[0.2,0],[0.1,0]],[[0.3,0],[0.3,0],[0.4,0],[0,0]]]\n",
    "\n",
    "def clics_vectf(v,m,c):\n",
    "    \n",
    "    if c > 0:\n",
    "        vecf = v\n",
    "        for i in range(0,c):\n",
    "            vecf = alg.accion_ma_ve(m,vecf)\n",
    "            \n",
    "        return vecf\n",
    "    else:\n",
    "        return v"
   ]
  },
  {
   "cell_type": "code",
   "execution_count": 7,
   "metadata": {},
   "outputs": [
    {
     "name": "stdout",
     "output_type": "stream",
     "text": [
      "Vector de estado finaal:  [[[0.229, 0.0]], [[0.263, 0.0]], [[0.263, 0.0]], [[0.245, 0.0]]]\n"
     ]
    },
    {
     "data": {
      "image/png": "[encoded data removed]",
      "text/plain": [
       "<Figure size 432x288 with 1 Axes>"
      ]
     },
     "metadata": {
      "needs_background": "light"
     },
     "output_type": "display_data"
    }
   ],
   "source": [
    "v = clics_vectf(vec,m,clics)\n",
    "print(\"Vector de estado finaal: \", v)\n",
    "labels = [\"Pto. 0\",\"Pto. 1\",\"Pto. 2\",\"Pto. 3\"]\n",
    "estado = [v[0][0][0],v[1][0][0],v[2][0][0],v[3][0][0]]\n",
    "\n",
    "index = np.arange(len(labels))\n",
    "#print(\"Esto es 'index':\", index)\n",
    "plt.bar(index,estado)\n",
    "plt.xlabel('Estado')\n",
    "plt.ylabel('Valor')\n",
    "plt.xticks(index,labels,rotation = 75)\n",
    "plt.title(\"Evolución dinámica del sistema después de \"+ str(clics) + \" clics de tiempo:\")\n",
    "plt.show()"
   ]
  },
  {
   "cell_type": "code",
   "execution_count": null,
   "metadata": {},
   "outputs": [],
   "source": []
  },
  {
   "cell_type": "code",
   "execution_count": null,
   "metadata": {},
   "outputs": [],
   "source": []
  }
 ],
 "metadata": {
  "kernelspec": {
   "display_name": "Python 3",
   "language": "python",
   "name": "python3"
  },
  "language_info": {
   "codemirror_mode": {
    "name": "ipython",
    "version": 3
   },
   "file_extension": ".py",
   "mimetype": "text/x-python",
   "name": "python",
   "nbconvert_exporter": "python",
   "pygments_lexer": "ipython3",
   "version": "3.7.4"
  }
 },
 "nbformat": 4,
 "nbformat_minor": 2
}
